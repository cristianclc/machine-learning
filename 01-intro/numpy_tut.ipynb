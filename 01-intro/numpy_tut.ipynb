{
 "cells": [
  {
   "cell_type": "code",
   "execution_count": 1,
   "id": "20cbd90d-b9e3-4388-a910-6039a13ea3be",
   "metadata": {},
   "outputs": [],
   "source": [
    "import numpy as np"
   ]
  },
  {
   "cell_type": "markdown",
   "id": "ff28bcbf-7de2-4e00-8a6e-a1cd1ad8eff0",
   "metadata": {},
   "source": [
    "np"
   ]
  },
  {
   "cell_type": "code",
   "execution_count": 5,
   "id": "3b266db3-2a1c-4ef8-b1b1-393e53389bd4",
   "metadata": {},
   "outputs": [
    {
     "data": {
      "text/plain": [
       "array([0., 0., 0., 0., 0., 0., 0., 0., 0., 0.])"
      ]
     },
     "execution_count": 5,
     "metadata": {},
     "output_type": "execute_result"
    }
   ],
   "source": [
    "#Creando arrays\n",
    "np.zeros(10) #Array de 10 ceros"
   ]
  },
  {
   "cell_type": "code",
   "execution_count": 4,
   "id": "4352b15c-b310-495a-8af9-2ff74d732cb6",
   "metadata": {},
   "outputs": [
    {
     "data": {
      "text/plain": [
       "array([1., 1., 1., 1., 1., 1., 1., 1., 1., 1.])"
      ]
     },
     "execution_count": 4,
     "metadata": {},
     "output_type": "execute_result"
    }
   ],
   "source": [
    "np.ones(10)"
   ]
  },
  {
   "cell_type": "code",
   "execution_count": 6,
   "id": "3d0aa7fb-31fa-4a6e-97b4-706f5d62bd83",
   "metadata": {},
   "outputs": [
    {
     "data": {
      "text/plain": [
       "array([2.5, 2.5, 2.5, 2.5, 2.5, 2.5, 2.5, 2.5, 2.5, 2.5])"
      ]
     },
     "execution_count": 6,
     "metadata": {},
     "output_type": "execute_result"
    }
   ],
   "source": [
    "np.full(10, 2.5)"
   ]
  },
  {
   "cell_type": "code",
   "execution_count": 8,
   "id": "3ce113ed-ce8d-4017-8e2d-bef4e7c7494a",
   "metadata": {},
   "outputs": [
    {
     "data": {
      "text/plain": [
       "array([ 1,  2,  3,  4,  5, 10])"
      ]
     },
     "execution_count": 8,
     "metadata": {},
     "output_type": "execute_result"
    }
   ],
   "source": [
    "#Creando un array de un vector ya existente\n",
    "a = np.array([1,2,3,4,5,10])\n",
    "a"
   ]
  },
  {
   "cell_type": "code",
   "execution_count": 10,
   "id": "3c387fa9-53cb-496d-bbc1-52235a22c214",
   "metadata": {},
   "outputs": [
    {
     "data": {
      "text/plain": [
       "np.int64(10)"
      ]
     },
     "execution_count": 10,
     "metadata": {},
     "output_type": "execute_result"
    }
   ],
   "source": [
    "a[2] = 10\n",
    "a[2] #Acceder al tercer elemento del array"
   ]
  },
  {
   "cell_type": "code",
   "execution_count": 13,
   "id": "b8ef4e20-8d92-4c71-b0c8-43186ecaafb6",
   "metadata": {},
   "outputs": [
    {
     "data": {
      "text/plain": [
       "array([3, 4, 5, 6, 7, 8, 9])"
      ]
     },
     "execution_count": 13,
     "metadata": {},
     "output_type": "execute_result"
    }
   ],
   "source": [
    "np.arange(3, 10) #Crear un array de 3 a 9"
   ]
  },
  {
   "cell_type": "code",
   "execution_count": 14,
   "id": "cf2de241-0e56-4f11-93b6-2ec65c32dd0c",
   "metadata": {},
   "outputs": [
    {
     "data": {
      "text/plain": [
       "array([0. , 0.1, 0.2, 0.3, 0.4, 0.5, 0.6, 0.7, 0.8, 0.9, 1. ])"
      ]
     },
     "execution_count": 14,
     "metadata": {},
     "output_type": "execute_result"
    }
   ],
   "source": [
    "np.linspace(0, 1, 11) #Crea un array del 0 al 1 con 11 elementos"
   ]
  },
  {
   "cell_type": "code",
   "execution_count": 15,
   "id": "d28477c7-5c62-438c-8be2-9e8c0921b7e7",
   "metadata": {},
   "outputs": [
    {
     "data": {
      "text/plain": [
       "array([[0., 0.],\n",
       "       [0., 0.],\n",
       "       [0., 0.],\n",
       "       [0., 0.],\n",
       "       [0., 0.]])"
      ]
     },
     "execution_count": 15,
     "metadata": {},
     "output_type": "execute_result"
    }
   ],
   "source": [
    "#Arrays multidimensionales\n",
    "np.zeros((5,2)) #Primer elemento es filas, segundo columnas"
   ]
  },
  {
   "cell_type": "code",
   "execution_count": 19,
   "id": "ca25cbeb-53cf-4ce7-b14f-e7536baf9b70",
   "metadata": {},
   "outputs": [
    {
     "data": {
      "text/plain": [
       "array([[1, 2, 3],\n",
       "       [4, 5, 6],\n",
       "       [7, 8, 9]])"
      ]
     },
     "execution_count": 19,
     "metadata": {},
     "output_type": "execute_result"
    }
   ],
   "source": [
    "n = np.array([[1,2,3],[4,5,6],[7,8,9]])\n",
    "n"
   ]
  },
  {
   "cell_type": "code",
   "execution_count": 20,
   "id": "b8ce3363-9c28-45e2-a2d1-7bbcc94c32ea",
   "metadata": {},
   "outputs": [
    {
     "data": {
      "text/plain": [
       "np.int64(5)"
      ]
     },
     "execution_count": 20,
     "metadata": {},
     "output_type": "execute_result"
    }
   ],
   "source": [
    "n[1][1] #Elemento del medio"
   ]
  },
  {
   "cell_type": "code",
   "execution_count": 21,
   "id": "613c8e7d-5af9-42c2-980b-0b589e4411ff",
   "metadata": {},
   "outputs": [
    {
     "data": {
      "text/plain": [
       "np.int64(5)"
      ]
     },
     "execution_count": 21,
     "metadata": {},
     "output_type": "execute_result"
    }
   ],
   "source": [
    "n[1,1]"
   ]
  },
  {
   "cell_type": "code",
   "execution_count": 22,
   "id": "e6375cac-c0fd-4d60-9611-031c2d9a808f",
   "metadata": {},
   "outputs": [
    {
     "data": {
      "text/plain": [
       "array([2, 5, 8])"
      ]
     },
     "execution_count": 22,
     "metadata": {},
     "output_type": "execute_result"
    }
   ],
   "source": [
    "n[:,1] #Elementos de la segunda columna"
   ]
  },
  {
   "cell_type": "code",
   "execution_count": 42,
   "id": "eb0cab93-3d7e-4cdf-931e-53c3b7032ca7",
   "metadata": {},
   "outputs": [
    {
     "data": {
      "text/plain": [
       "array([[43.59949021,  2.59262318],\n",
       "       [54.96624779, 43.53223926],\n",
       "       [42.03678021, 33.0334821 ],\n",
       "       [20.4648634 , 61.92709664],\n",
       "       [29.96546737, 26.68272751]])"
      ]
     },
     "execution_count": 42,
     "metadata": {},
     "output_type": "execute_result"
    }
   ],
   "source": [
    "#Arrays generados de forma aleatoria\n",
    "np.random.seed(2)\n",
    "c = 100 * np.random.rand(5,2) #Cinco filas, dos columnas de 0 a 1, si queremos que sea negativo podemos usar randn\n",
    "c"
   ]
  },
  {
   "cell_type": "code",
   "execution_count": 36,
   "id": "2d460c8f-7819-4bf0-b1bb-cc090e4e3f98",
   "metadata": {},
   "outputs": [
    {
     "data": {
      "text/plain": [
       "array([[40, 15],\n",
       "       [72, 22],\n",
       "       [43, 82],\n",
       "       [75,  7],\n",
       "       [34, 49]])"
      ]
     },
     "execution_count": 36,
     "metadata": {},
     "output_type": "execute_result"
    }
   ],
   "source": [
    "np.random.seed(2)\n",
    "b = np.random.randint(low=0, high=100, size=(5,2))\n",
    "b"
   ]
  },
  {
   "cell_type": "code",
   "execution_count": 37,
   "id": "50e87641-6ee8-4435-afc5-d7ce3f59f1e6",
   "metadata": {},
   "outputs": [
    {
     "data": {
      "text/plain": [
       "array([[41, 16],\n",
       "       [73, 23],\n",
       "       [44, 83],\n",
       "       [76,  8],\n",
       "       [35, 50]])"
      ]
     },
     "execution_count": 37,
     "metadata": {},
     "output_type": "execute_result"
    }
   ],
   "source": [
    "b + 1"
   ]
  },
  {
   "cell_type": "code",
   "execution_count": 38,
   "id": "d3706f0d-c7a3-483a-9c70-e3c30b35cf5b",
   "metadata": {},
   "outputs": [
    {
     "data": {
      "text/plain": [
       "array([[False, False],\n",
       "       [ True, False],\n",
       "       [False,  True],\n",
       "       [ True, False],\n",
       "       [False, False]])"
      ]
     },
     "execution_count": 38,
     "metadata": {},
     "output_type": "execute_result"
    }
   ],
   "source": [
    "b  >= 50\n"
   ]
  },
  {
   "cell_type": "code",
   "execution_count": 43,
   "id": "cc3e2d14-869f-426e-9206-9702913b1264",
   "metadata": {},
   "outputs": [
    {
     "data": {
      "text/plain": [
       "array([[ True, False],\n",
       "       [False,  True],\n",
       "       [False, False],\n",
       "       [False,  True],\n",
       "       [False, False]])"
      ]
     },
     "execution_count": 43,
     "metadata": {},
     "output_type": "execute_result"
    }
   ],
   "source": [
    "c >= b"
   ]
  },
  {
   "cell_type": "code",
   "execution_count": 44,
   "id": "81092f91-9779-4022-b887-e35483ec6a51",
   "metadata": {},
   "outputs": [
    {
     "data": {
      "text/plain": [
       "array([43.59949021, 43.53223926, 61.92709664])"
      ]
     },
     "execution_count": 44,
     "metadata": {},
     "output_type": "execute_result"
    }
   ],
   "source": [
    "c[c>=b] #Retorna los elementos de c que cumplen la condiciónn indicada"
   ]
  },
  {
   "cell_type": "code",
   "execution_count": 49,
   "id": "583abf84-106b-4b02-b2be-d7b380bbbb56",
   "metadata": {},
   "outputs": [
    {
     "data": {
      "text/plain": [
       "(np.float64(2.5926231827891333),\n",
       " np.float64(61.92709663506637),\n",
       " np.float64(358.80101767241405),\n",
       " np.float64(35.880101767241406),\n",
       " np.float64(16.34667981081927))"
      ]
     },
     "execution_count": 49,
     "metadata": {},
     "output_type": "execute_result"
    }
   ],
   "source": [
    "c.min(),c.max(),c.sum(),c.mean(),c.std()"
   ]
  },
  {
   "cell_type": "code",
   "execution_count": null,
   "id": "639fe701-72b1-419d-a465-ba359eee6335",
   "metadata": {},
   "outputs": [],
   "source": []
  }
 ],
 "metadata": {
  "kernelspec": {
   "display_name": "Python 3 (ipykernel)",
   "language": "python",
   "name": "python3"
  },
  "language_info": {
   "codemirror_mode": {
    "name": "ipython",
    "version": 3
   },
   "file_extension": ".py",
   "mimetype": "text/x-python",
   "name": "python",
   "nbconvert_exporter": "python",
   "pygments_lexer": "ipython3",
   "version": "3.12.1"
  }
 },
 "nbformat": 4,
 "nbformat_minor": 5
}
