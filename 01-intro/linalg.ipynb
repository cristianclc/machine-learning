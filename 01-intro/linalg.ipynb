{
 "cells": [
  {
   "cell_type": "code",
   "execution_count": 3,
   "id": "571e8ee1-a6f1-44c6-9b21-cedd7e0309fd",
   "metadata": {},
   "outputs": [],
   "source": [
    "#linalg\n",
    "import numpy as np"
   ]
  },
  {
   "cell_type": "code",
   "execution_count": 13,
   "id": "5b2dbc93-922f-42be-8d86-ae0d3d402981",
   "metadata": {},
   "outputs": [
    {
     "data": {
      "text/plain": [
       "array([ 2,  4,  6,  8, 10])"
      ]
     },
     "execution_count": 13,
     "metadata": {},
     "output_type": "execute_result"
    }
   ],
   "source": [
    "u = np.array([1,2,3,4,5])\n",
    "v = np.array([6,7,8,9,10])\n",
    "\n",
    "u * 2"
   ]
  },
  {
   "cell_type": "code",
   "execution_count": 14,
   "id": "2b3ad26e-481f-416e-b005-cc541d92e047",
   "metadata": {},
   "outputs": [
    {
     "data": {
      "text/plain": [
       "array([ 7,  9, 11, 13, 15])"
      ]
     },
     "execution_count": 14,
     "metadata": {},
     "output_type": "execute_result"
    }
   ],
   "source": [
    "u+v"
   ]
  },
  {
   "cell_type": "code",
   "execution_count": 15,
   "id": "833bcf9d-a7e5-49a6-afe0-ad47f332d4c4",
   "metadata": {},
   "outputs": [
    {
     "data": {
      "text/plain": [
       "array([ 6, 14, 24, 36, 50])"
      ]
     },
     "execution_count": 15,
     "metadata": {},
     "output_type": "execute_result"
    }
   ],
   "source": [
    "u*v #multiplica cada elemento"
   ]
  },
  {
   "cell_type": "code",
   "execution_count": 39,
   "id": "0e2d432c-a41e-4d6d-99c9-3680263bef8e",
   "metadata": {},
   "outputs": [
    {
     "data": {
      "text/plain": [
       "np.int64(130)"
      ]
     },
     "execution_count": 39,
     "metadata": {},
     "output_type": "execute_result"
    }
   ],
   "source": [
    "w = np.array([1,2,3,4])\n",
    "#producto punto o producto escalar (retorna un escalar)\n",
    "\n",
    "def vector_mult(u, v):\n",
    "    assert u.shape[0] == v.shape[0]\n",
    "    \n",
    "    result=0\n",
    "    \n",
    "    for i in range(u.shape[0]):\n",
    "        result+=u[i]*v[i]\n",
    "    return result\n",
    "\n",
    "vector_mult(u,v)"
   ]
  },
  {
   "cell_type": "code",
   "execution_count": 25,
   "id": "9001d49b-dcd3-4edf-b6cd-1b3253b37361",
   "metadata": {},
   "outputs": [],
   "source": [
    "A = np.array([[2,4,5,6],[1,2,1,2],[3,1,2,1]])\n",
    "B = np.array([[1,1,2],[0,0.5,1],[0,2,1],[2,1,0]])"
   ]
  },
  {
   "cell_type": "code",
   "execution_count": 33,
   "id": "6b386706-96e4-4033-9eda-f14091175dac",
   "metadata": {},
   "outputs": [
    {
     "data": {
      "text/plain": [
       "array([49., 16., 15.])"
      ]
     },
     "execution_count": 33,
     "metadata": {},
     "output_type": "execute_result"
    }
   ],
   "source": [
    "#producto punto entre matriz y vector\n",
    "def matrix_vector_mult(U,v):\n",
    "    assert U.shape[1] == v.shape[0]\n",
    "    number_rows = U.shape[0]\n",
    "\n",
    "    result = np.zeros(number_rows)\n",
    "\n",
    "    for i in range(number_rows):\n",
    "        result[i] = vector_mult(U[i],v)\n",
    "\n",
    "    return result\n",
    "\n",
    "matrix_vector_mult(A, w)"
   ]
  },
  {
   "cell_type": "code",
   "execution_count": 35,
   "id": "03894794-1a24-4eb3-ae16-7857e3649daa",
   "metadata": {},
   "outputs": [
    {
     "data": {
      "text/plain": [
       "array([49, 16, 15])"
      ]
     },
     "execution_count": 35,
     "metadata": {},
     "output_type": "execute_result"
    }
   ],
   "source": [
    "np.dot(A,w) #multiplacion matriz vector"
   ]
  },
  {
   "cell_type": "code",
   "execution_count": 36,
   "id": "345ba889-3404-4daf-9f84-4d13db4041ea",
   "metadata": {},
   "outputs": [],
   "source": [
    "#producto matriz matriz"
   ]
  },
  {
   "cell_type": "code",
   "execution_count": 43,
   "id": "8b9dc2ba-e6a7-423c-ae92-75af5202bced",
   "metadata": {},
   "outputs": [
    {
     "data": {
      "text/plain": [
       "array([[14. , 20. , 13. ],\n",
       "       [ 5. ,  6. ,  5. ],\n",
       "       [ 5. ,  8.5,  9. ]])"
      ]
     },
     "execution_count": 43,
     "metadata": {},
     "output_type": "execute_result"
    }
   ],
   "source": [
    "def matrix_matrix_mult(U,V):\n",
    "    assert U.shape[1] == V.shape[0]\n",
    "\n",
    "    num_r = U.shape[0]\n",
    "    num_c = V.shape[1]\n",
    "    \n",
    "    m_result = np.zeros((num_r, num_c))\n",
    "\n",
    "    for i in range(num_c):\n",
    "        vi = V[:, i] #columna i de v\n",
    "        Uvi = matrix_vector_mult(U,vi) #multiplca la matriz U por la columna i de v, lo que retornaría la columna i de la matriz resultado\n",
    "        m_result[:, i] = Uvi\n",
    "\n",
    "    return m_result\n",
    "\n",
    "matrix_matrix_mult(A,B)"
   ]
  },
  {
   "cell_type": "code",
   "execution_count": 45,
   "id": "e23803e4-76d9-477e-a869-c18696b03e64",
   "metadata": {},
   "outputs": [
    {
     "data": {
      "text/plain": [
       "array([[14. , 20. , 13. ],\n",
       "       [ 5. ,  6. ,  5. ],\n",
       "       [ 5. ,  8.5,  9. ]])"
      ]
     },
     "execution_count": 45,
     "metadata": {},
     "output_type": "execute_result"
    }
   ],
   "source": [
    "A.dot(B)"
   ]
  },
  {
   "cell_type": "code",
   "execution_count": 49,
   "id": "348c994d-e229-4ab6-aca6-db9102a2e78a",
   "metadata": {},
   "outputs": [],
   "source": [
    "#matriz identidad\n",
    "I = np.eye(4) #tamaño matriz identidad"
   ]
  },
  {
   "cell_type": "code",
   "execution_count": 50,
   "id": "c00d2467-2734-4ef4-9d89-8c00b31f5911",
   "metadata": {},
   "outputs": [
    {
     "data": {
      "text/plain": [
       "array([[2., 4., 5., 6.],\n",
       "       [1., 2., 1., 2.],\n",
       "       [3., 1., 2., 1.]])"
      ]
     },
     "execution_count": 50,
     "metadata": {},
     "output_type": "execute_result"
    }
   ],
   "source": [
    "A.dot(I)"
   ]
  },
  {
   "cell_type": "code",
   "execution_count": 54,
   "id": "2dc3ca8a-58d1-4bf5-94ca-6ef2f21412c3",
   "metadata": {},
   "outputs": [
    {
     "data": {
      "text/plain": [
       "array([[1. , 1. , 2. ],\n",
       "       [0. , 0.5, 1. ],\n",
       "       [0. , 2. , 1. ]])"
      ]
     },
     "execution_count": 54,
     "metadata": {},
     "output_type": "execute_result"
    }
   ],
   "source": [
    "#matriz inversa solo existe en matriz cuadradas\n",
    "sq = B[[0,1,2]]\n",
    "sq"
   ]
  },
  {
   "cell_type": "code",
   "execution_count": null,
   "id": "ee362ea5-8f25-45fe-8b2d-fbfee796eb5f",
   "metadata": {},
   "outputs": [],
   "source": []
  }
 ],
 "metadata": {
  "kernelspec": {
   "display_name": "Python 3 (ipykernel)",
   "language": "python",
   "name": "python3"
  },
  "language_info": {
   "codemirror_mode": {
    "name": "ipython",
    "version": 3
   },
   "file_extension": ".py",
   "mimetype": "text/x-python",
   "name": "python",
   "nbconvert_exporter": "python",
   "pygments_lexer": "ipython3",
   "version": "3.12.1"
  }
 },
 "nbformat": 4,
 "nbformat_minor": 5
}
